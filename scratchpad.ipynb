{
 "cells": [
  {
   "cell_type": "code",
   "execution_count": null,
   "metadata": {},
   "outputs": [],
   "source": [
    "from langchain.chat_models import ChatOpenAI\n",
    "from langchain.schema import HumanMessage, SystemMessage\n",
    "from voyager.voyager import Voyager\n",
    "from voyager.helpers import load_prompt "
   ]
  },
  {
   "cell_type": "code",
   "execution_count": null,
   "metadata": {},
   "outputs": [],
   "source": [
    "# llm = ChatOpenAI(model_name='gpt-3.5-turbo', temperature=0.1)\n",
    "# SYSTEM_MESSAGE = SystemMessage(content='You are a helpful assistant, figure out what the next step is.')\n",
    "# HUMAN_MESSAGE = HumanMessage(content='I want to fetch the weather with Python. The first step is to find an API that does not need a key.')\n",
    "# messages = [SYSTEM_MESSAGE, HUMAN_MESSAGE]\n",
    "# llm(messages)"
   ]
  },
  {
   "cell_type": "code",
   "execution_count": null,
   "metadata": {},
   "outputs": [],
   "source": [
    "goal = \"\"\"\n",
    "Your task is to interact with a weather API to gather weather information of several cities.\n",
    "The cities for this task are Palo Alto, Seoul, and Paris.\n",
    "You'll need to choose an API, send relevant requests, parse the JSON responses, extract relevant information, and store these pieces of information in a CSV file.\n",
    "Each city's data should be on a separate line with the city's name, temperature, humidity, and weather condition as the column values.\n",
    "\"\"\"\n",
    "# voyager = Voyager()\n",
    "# voyager.run(goal)"
   ]
  },
  {
   "cell_type": "markdown",
   "metadata": {},
   "source": [
    "### Selenium"
   ]
  },
  {
   "cell_type": "code",
   "execution_count": null,
   "metadata": {},
   "outputs": [],
   "source": [
    "from voyager.environment.environment import Environment\n",
    "env = Environment(headless=True)\n",
    "\n",
    "with open('skill_library/primitives/scroll.py', 'r') as f:\n",
    "    scroll_code = f.read()\n",
    "\n",
    "with open('skill_library/primitives/goto.py', 'r') as f:\n",
    "    goto_code = f.read()\n",
    "\n",
    "\n",
    "with open('skill_library/runs/run1/code/get_wikipedia_article_summary.py', 'r') as f:\n",
    "    code = f.read()"
   ]
  },
  {
   "cell_type": "code",
   "execution_count": null,
   "metadata": {},
   "outputs": [],
   "source": [
    "output = env.step(goto_code, arguments={\"url\": \"https://www.linkedin.com/in/antonotaner/\"})\n",
    "output"
   ]
  },
  {
   "cell_type": "code",
   "execution_count": null,
   "metadata": {},
   "outputs": [],
   "source": [
    "output = env.step(scroll_code, arguments={\"direction\": \"down\"})\n",
    "output"
   ]
  },
  {
   "cell_type": "code",
   "execution_count": null,
   "metadata": {},
   "outputs": [],
   "source": [
    "output = env.step(code, arguments={\"article_title\": \"Python_(programming_language)\"})\n",
    "output"
   ]
  },
  {
   "cell_type": "code",
   "execution_count": null,
   "metadata": {},
   "outputs": [],
   "source": [
    "state = env.describe_website()\n",
    "state"
   ]
  }
 ],
 "metadata": {
  "kernelspec": {
   "display_name": ".venv",
   "language": "python",
   "name": "python3"
  },
  "language_info": {
   "codemirror_mode": {
    "name": "ipython",
    "version": 3
   },
   "file_extension": ".py",
   "mimetype": "text/x-python",
   "name": "python",
   "nbconvert_exporter": "python",
   "pygments_lexer": "ipython3",
   "version": "3.10.6"
  },
  "orig_nbformat": 4
 },
 "nbformat": 4,
 "nbformat_minor": 2
}
