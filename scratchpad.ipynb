{
 "cells": [
  {
   "cell_type": "code",
   "execution_count": null,
   "metadata": {},
   "outputs": [],
   "source": [
    "from langchain.chat_models import ChatOpenAI\n",
    "from langchain.schema import HumanMessage, SystemMessage\n",
    "from voyager.voyager import Voyager\n",
    "from voyager.helpers import load_prompt "
   ]
  },
  {
   "cell_type": "code",
   "execution_count": null,
   "metadata": {},
   "outputs": [],
   "source": [
    "llm = ChatOpenAI(model_name='gpt-3.5-turbo', temperature=0.1)\n",
    "SYSTEM_MESSAGE = SystemMessage(content='You are a helpful assistant, figure out what the next step is.')\n",
    "HUMAN_MESSAGE = HumanMessage(content='I want to fetch the weather with Python. The first step is to find an API that does not need a key.')\n",
    "messages = [SYSTEM_MESSAGE, HUMAN_MESSAGE]\n",
    "# llm(messages)"
   ]
  },
  {
   "cell_type": "code",
   "execution_count": null,
   "metadata": {},
   "outputs": [],
   "source": [
    "goal = \"\"\"\n",
    "Your task is to interact with a weather API to gather weather information of several cities.\n",
    "The cities for this task are Palo Alto, Seoul, and Paris.\n",
    "You'll need to choose an API, send relevant requests, parse the JSON responses, extract relevant information, and store these pieces of information in a CSV file.\n",
    "Each city's data should be on a separate line with the city's name, temperature, humidity, and weather condition as the column values.\n",
    "\"\"\"\n",
    "voyager = Voyager()\n",
    "voyager.run(goal)"
   ]
  },
  {
   "cell_type": "markdown",
   "metadata": {},
   "source": [
    "### Selenium"
   ]
  },
  {
   "cell_type": "code",
   "execution_count": 1,
   "metadata": {},
   "outputs": [
    {
     "data": {
      "text/plain": [
       "'def get_wikipedia_article_summary(driver, article_title: str = \"Machine Learning\"):\\n    # Navigate to the article\\n    url = f\"https://en.wikipedia.org/wiki/{article_title}\"\\n    print(\"Navigating to URL:\", url)\\n    driver.get(url)\\n\\n    # Find the first paragraph. Wikipedia typically structures the summary with \\'p\\' tag after the first \\'table\\' tag.\\n    summary_element = driver.find_element(selenium.webdriver.common.by.By.XPATH, \"//table/following-sibling::p\")\\n    print(\"Found summary element:\", summary_element)\\n\\n    # Extract and return the text\\n    summary_text = summary_element.text\\n    print(\"Extracted summary text:\", summary_text)\\n    return summary_text\\n'"
      ]
     },
     "execution_count": 1,
     "metadata": {},
     "output_type": "execute_result"
    }
   ],
   "source": [
    "from voyager.environment.environment import Environment\n",
    "env = Environment()\n",
    "\n",
    "with open('skill_library/trial1/code/get_wikipedia_article_summary.py', 'r') as f:\n",
    "    code = f.read()\n",
    "\n",
    "code"
   ]
  },
  {
   "cell_type": "code",
   "execution_count": 2,
   "metadata": {},
   "outputs": [],
   "source": [
    "output = env.step(code, arguments={\"article_title\": \"Python_(programming_language)\"})"
   ]
  },
  {
   "cell_type": "code",
   "execution_count": 3,
   "metadata": {},
   "outputs": [
    {
     "data": {
      "text/plain": [
       "{'output': 'Python is a high-level, general-purpose programming language. Its design philosophy emphasizes code readability with the use of significant indentation via the off-side rule.[34]',\n",
       " 'errors': None,\n",
       " 'log': ['Navigating to URL: https://en.wikipedia.org/wiki/Python_(programming_language)',\n",
       "  'Found summary element: <selenium.webdriver.remote.webelement.WebElement (session=\"a3b65e4f7359f13b5b4785c1a86101f7\", element=\"862820D65731A7BAA13F84C7E8F197F9_element_33\")>',\n",
       "  'Extracted summary text: Python is a high-level, general-purpose programming language. Its design philosophy emphasizes code readability with the use of significant indentation via the off-side rule.[34]']}"
      ]
     },
     "execution_count": 3,
     "metadata": {},
     "output_type": "execute_result"
    }
   ],
   "source": [
    "output"
   ]
  }
 ],
 "metadata": {
  "kernelspec": {
   "display_name": ".venv",
   "language": "python",
   "name": "python3"
  },
  "language_info": {
   "codemirror_mode": {
    "name": "ipython",
    "version": 3
   },
   "file_extension": ".py",
   "mimetype": "text/x-python",
   "name": "python",
   "nbconvert_exporter": "python",
   "pygments_lexer": "ipython3",
   "version": "3.10.6"
  },
  "orig_nbformat": 4
 },
 "nbformat": 4,
 "nbformat_minor": 2
}
