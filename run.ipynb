{
 "cells": [
  {
   "cell_type": "code",
   "execution_count": null,
   "metadata": {},
   "outputs": [],
   "source": [
    "from langchain.chat_models import ChatOpenAI\n",
    "from langchain.schema import HumanMessage, SystemMessage\n",
    "from voyager.voyager import Voyager"
   ]
  },
  {
   "cell_type": "code",
   "execution_count": null,
   "metadata": {},
   "outputs": [],
   "source": [
    "llm = ChatOpenAI(model_name='gpt-3.5-turbo', temperature=0.1)\n",
    "SYSTEM_MESSAGE = SystemMessage(content='You are a helpful assistant, figure out what the next step is.')\n",
    "HUMAN_MESSAGE = HumanMessage(content='I want to fetch the weather with Python. The first step is to find an API that does not need a key.')\n",
    "\n",
    "# Need functions for system (fix) and human message (variable)\n",
    "# Can use OpenAI functions instead of parsing the next step manually\n",
    "messages = [SYSTEM_MESSAGE, HUMAN_MESSAGE]\n",
    "# llm(messages)"
   ]
  },
  {
   "cell_type": "code",
   "execution_count": null,
   "metadata": {},
   "outputs": [],
   "source": [
    "goal = \"\"\"\n",
    "    Your task is to interact with a weather API to gather weather information of several cities.\n",
    "    The cities for this task are Palo Alto, Seoul, and Paris.\n",
    "    You'll need to choose an API, send relevant requests, parse the JSON responses, extract relevant information, and store these pieces of information in a CSV file.\n",
    "    Each city's data should be on a separate line with the city's name, temperature, humidity, and weather condition as the column values.\n",
    "    \"\"\"\n",
    "voyager = Voyager(goal)\n",
    "voyager.run()"
   ]
  }
 ],
 "metadata": {
  "kernelspec": {
   "display_name": ".venv",
   "language": "python",
   "name": "python3"
  },
  "language_info": {
   "codemirror_mode": {
    "name": "ipython",
    "version": 3
   },
   "file_extension": ".py",
   "mimetype": "text/x-python",
   "name": "python",
   "nbconvert_exporter": "python",
   "pygments_lexer": "ipython3",
   "version": "3.10.6"
  },
  "orig_nbformat": 4
 },
 "nbformat": 4,
 "nbformat_minor": 2
}
